{
 "cells": [
  {
   "attachments": {},
   "cell_type": "markdown",
   "id": "7fb1474f",
   "metadata": {},
   "source": [
    "# Capacitated EOQ Model"
   ]
  },
  {
   "attachments": {},
   "cell_type": "markdown",
   "id": "7a680e6e",
   "metadata": {},
   "source": [
    "## Model Inputs\n",
    "\n",
    "Feel free to modify these to understand how the model works. Then `Run All`. "
   ]
  },
  {
   "cell_type": "code",
   "execution_count": null,
   "id": "9d2c9956",
   "metadata": {},
   "outputs": [],
   "source": [
    "#This will be the start of the notebook"
   ]
  },
  {
   "attachments": {},
   "cell_type": "markdown",
   "id": "7c1b3827",
   "metadata": {},
   "source": [
    "## Functions"
   ]
  },
  {
   "cell_type": "code",
   "execution_count": null,
   "id": "fdeaa78a",
   "metadata": {},
   "outputs": [],
   "source": [
    "# All the functions we plan on using"
   ]
  },
  {
   "attachments": {},
   "cell_type": "markdown",
   "id": "90ef839e",
   "metadata": {},
   "source": [
    "## Model"
   ]
  },
  {
   "cell_type": "code",
   "execution_count": null,
   "id": "989b4c0c",
   "metadata": {},
   "outputs": [],
   "source": [
    "# Here's where the model runs"
   ]
  },
  {
   "attachments": {},
   "cell_type": "markdown",
   "id": "619bc376",
   "metadata": {},
   "source": [
    "## Results"
   ]
  },
  {
   "cell_type": "code",
   "execution_count": null,
   "id": "0f962974",
   "metadata": {},
   "outputs": [],
   "source": [
    "# And here are the results!"
   ]
  }
 ],
 "metadata": {
  "kernelspec": {
   "display_name": "Python 3",
   "language": "python",
   "name": "python3"
  },
  "language_info": {
   "codemirror_mode": {
    "name": "ipython",
    "version": 3
   },
   "file_extension": ".py",
   "mimetype": "text/x-python",
   "name": "python",
   "nbconvert_exporter": "python",
   "pygments_lexer": "ipython3",
   "version": "3.8.8"
  }
 },
 "nbformat": 4,
 "nbformat_minor": 5
}
