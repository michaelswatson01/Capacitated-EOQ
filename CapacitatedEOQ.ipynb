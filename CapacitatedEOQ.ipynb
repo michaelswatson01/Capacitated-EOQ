{
 "cells": [
  {
   "cell_type": "markdown",
   "id": "7fb1474f",
   "metadata": {},
   "source": [
    "# Capacitated EOQ Model"
   ]
  },
  {
   "cell_type": "code",
   "execution_count": null,
   "id": "453e9f30",
   "metadata": {},
   "outputs": [],
   "source": [
    "# Load in the libraries that we'll use\n",
    "\n",
    "import pandas as pd\n",
    "import numpy as np"
   ]
  },
  {
   "cell_type": "markdown",
   "id": "7a680e6e",
   "metadata": {},
   "source": [
    "## Model Inputs\n",
    "\n",
    "Feel free to modify these to understand how the model works. Then `Run All`. "
   ]
  },
  {
   "cell_type": "code",
   "execution_count": null,
   "id": "9d2c9956",
   "metadata": {},
   "outputs": [],
   "source": [
    "#This cell is for reading the system-wide inputs\n",
    "\n",
    "total_hours = 8736\n",
    "avail_regular_hours = 4264\n",
    "avail_time_constraint = avail_regular_hours / total_hours\n",
    "nominal_set_up_time = 10  #later we'll change this to a calculation\n",
    "inv_holding_cost_percent = .2\n",
    "cost_of_set_up_hour = 100\n"
   ]
  },
  {
   "cell_type": "code",
   "execution_count": null,
   "id": "23acd10d",
   "metadata": {},
   "outputs": [],
   "source": [
    "#This cell is for reading the product-specific inputs\n",
    "\n",
    "product_input_table = pd.read_csv(\"product_input_v1.csv\", index_col=\"Product ID\")\n",
    "product_input_table # display the table"
   ]
  },
  {
   "cell_type": "code",
   "execution_count": null,
   "id": "4a404304",
   "metadata": {},
   "outputs": [],
   "source": [
    "product_input_table[\"product_set_up_time_hrs\"] = product_input_table[\"Set Up Scaler-- (q-j)\"] * nominal_set_up_time\n",
    "product_input_table[\"unit_set_up_cost\"] = product_input_table[\"product_set_up_time_hrs\"] * cost_of_set_up_hour\n",
    "product_input_table"
   ]
  },
  {
   "cell_type": "code",
   "execution_count": null,
   "id": "f70a21c2",
   "metadata": {},
   "outputs": [],
   "source": [
    "#create nasty calculation table\n",
    "internal_calc_df[\"Q-1 (S)\"] = np.sqrt((2*product_input_table[\"Demand (year)- m\"] * product_input_table[\"Set Up Scaler-- (q-j)\"]))\n"
   ]
  },
  {
   "cell_type": "markdown",
   "id": "7c1b3827",
   "metadata": {},
   "source": [
    "## Functions"
   ]
  },
  {
   "cell_type": "code",
   "execution_count": null,
   "id": "fdeaa78a",
   "metadata": {},
   "outputs": [],
   "source": [
    "# All the functions we plan on using"
   ]
  },
  {
   "cell_type": "markdown",
   "id": "90ef839e",
   "metadata": {},
   "source": [
    "## Model"
   ]
  },
  {
   "cell_type": "code",
   "execution_count": null,
   "id": "989b4c0c",
   "metadata": {},
   "outputs": [],
   "source": [
    "# Here's where the model runs"
   ]
  },
  {
   "cell_type": "markdown",
   "id": "619bc376",
   "metadata": {},
   "source": [
    "## Results"
   ]
  },
  {
   "cell_type": "code",
   "execution_count": null,
   "id": "0f962974",
   "metadata": {},
   "outputs": [],
   "source": [
    "# And here are the results!"
   ]
  }
 ],
 "metadata": {
  "kernelspec": {
   "display_name": "Python 3",
   "language": "python",
   "name": "python3"
  },
  "language_info": {
   "codemirror_mode": {
    "name": "ipython",
    "version": 3
   },
   "file_extension": ".py",
   "mimetype": "text/x-python",
   "name": "python",
   "nbconvert_exporter": "python",
   "pygments_lexer": "ipython3",
   "version": "3.8.8"
  }
 },
 "nbformat": 4,
 "nbformat_minor": 5
}
