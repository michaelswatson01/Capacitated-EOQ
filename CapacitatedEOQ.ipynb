{
 "cells": [
  {
   "attachments": {},
   "cell_type": "markdown",
   "id": "7fb1474f",
   "metadata": {},
   "source": [
    "# Capacitated EOQ Model"
   ]
  },
  {
   "cell_type": "code",
   "execution_count": null,
   "id": "453e9f30",
   "metadata": {},
   "outputs": [],
   "source": [
    "# Load in the libraries that we'll use\n",
    "\n",
    "import pandas as pd\n",
    "import numpy as np"
   ]
  },
  {
   "attachments": {},
   "cell_type": "markdown",
   "id": "7a680e6e",
   "metadata": {},
   "source": [
    "## Model Inputs\n",
    "\n",
    "Feel free to modify these to understand how the model works. Then `Run All`. "
   ]
  },
  {
   "cell_type": "code",
   "execution_count": null,
   "id": "9d2c9956",
   "metadata": {},
   "outputs": [],
   "source": [
    "#This cell is for reading the system-wide inputs\n",
    "\n",
    "total_hours = 8736  # this is in years\n",
    "avail_regular_hours = 4264  # this is in years\n",
    "avail_time_constraint = avail_regular_hours / total_hours  #expressed as a percentage\n",
    "nominal_set_up_time = 10  #later we'll change this to a calculation\n",
    "inv_holding_cost_percent = .2\n",
    "cost_of_set_up_hour = 100\n"
   ]
  },
  {
   "cell_type": "code",
   "execution_count": null,
   "id": "23acd10d",
   "metadata": {},
   "outputs": [],
   "source": [
    "#This cell is for reading the product-specific inputs\n",
    "\n",
    "product_input_table = pd.read_csv(\"product_input_v1.csv\", index_col=\"Product ID\")\n",
    "product_input_table # display the table"
   ]
  },
  {
   "cell_type": "code",
   "execution_count": null,
   "id": "4a404304",
   "metadata": {},
   "outputs": [],
   "source": [
    "product_input_table[\"product_set_up_time_hrs\"] = product_input_table[\"Set Up Scaler-- (q-j)\"] * nominal_set_up_time\n",
    "product_input_table[\"unit_set_up_cost\"] = product_input_table[\"product_set_up_time_hrs\"] * cost_of_set_up_hour\n",
    "product_input_table"
   ]
  },
  {
   "attachments": {},
   "cell_type": "markdown",
   "id": "a944b772",
   "metadata": {},
   "source": [
    "## Internal calculations"
   ]
  },
  {
   "cell_type": "code",
   "execution_count": null,
   "id": "febc2f04",
   "metadata": {},
   "outputs": [],
   "source": [
    "# Rename the input table so that formulas are shorter and more readable\n",
    "\n",
    "inputs_df = product_input_table.copy()\n",
    "inputs_df.columns = [\"demand\", \"cost\", \"rate\", \"scalar\", \"set_up_time\", \"set_up_cost\"]\n",
    "\n",
    "inputs_df"
   ]
  },
  {
   "cell_type": "code",
   "execution_count": null,
   "id": "f70a21c2",
   "metadata": {},
   "outputs": [],
   "source": [
    "#create nasty calculation table\n",
    "#create system-wide paramters  they will be mixed and matched depending on what needs to happen\n",
    "\n",
    "cogs = (inputs_df[\"demand\"] * inputs_df[\"cost\"]).sum()\n",
    "\n",
    "sys_S_nomimal_set_up_years = nominal_set_up_time / total_hours\n",
    "sys_c_S_cost_of_set_up_years = cost_of_set_up_hour / total_hours * total_hours * total_hours #this was in my spreadsheet like this. need to figure out why\n",
    "\n",
    "\n",
    "internal_calc_df = pd.DataFrame()  \n",
    "internal_calc_df[\"Prod_rate_yr_r_j\"] = inputs_df[\"rate\"] * total_hours\n",
    "internal_calc_df[\"m_over_r\"] = inputs_df[\"demand\"] / internal_calc_df[\"Prod_rate_yr_r_j\"]\n",
    "internal_calc_df[\"sqrt_2mqic_j\"] = np.sqrt(2 * inputs_df[\"demand\"] * inputs_df[\"scalar\"] * inv_holding_cost_percent *inputs_df[\"cost\"] )\n",
    "\n",
    "c_sum = internal_calc_df[\"sqrt_2mqic_j\"].sum()\n",
    "alpha = internal_calc_df[\"m_over_r\"].sum()\n",
    "if alpha > avail_time_constraint:  #this means the problem is infeasible-- production time takes longer than available time\n",
    "    infeasible_flag = True \n",
    "else:\n",
    "    infeasible_flag = False\n",
    "    \n",
    "lambda_var = (c_sum **2 * sys_S_nomimal_set_up_years) / (4*(avail_time_constraint - alpha)**2) - sys_c_S_cost_of_set_up_years \n",
    "\n",
    "x = sys_c_S_cost_of_set_up_years\n",
    "y = sys_S_nomimal_set_up_years\n",
    "internal_calc_df[\"Q-1 (S)\"] = np.sqrt((2*inputs_df[\"demand\"] * inputs_df[\"scalar\"] * x * y)/(inv_holding_cost_percent * inputs_df[\"cost\"]))\n",
    "internal_calc_df[\"Q-2\"] = ((c_sum * y) / (avail_time_constraint - alpha)) * np.sqrt((inputs_df[\"demand\"] * inputs_df[\"scalar\"]) / (2 * inv_holding_cost_percent * inputs_df[\"cost\"])) \n",
    "\n",
    "print(\"sys_S_nomimal_set_up_years\",sys_S_nomimal_set_up_years)\n",
    "print(\"sys_c_S_cost_of_set_up_years\",sys_c_S_cost_of_set_up_years)\n",
    "print(\"alpha\",alpha)\n",
    "print(\"cogs\",cogs)\n",
    "print(\"lambda_var\",lambda_var)\n",
    "internal_calc_df.astype(\"float\").round(3)\n"
   ]
  },
  {
   "attachments": {},
   "cell_type": "markdown",
   "id": "7c1b3827",
   "metadata": {},
   "source": [
    "## Functions"
   ]
  },
  {
   "cell_type": "code",
   "execution_count": null,
   "id": "fdeaa78a",
   "metadata": {},
   "outputs": [],
   "source": [
    "# All the functions we plan on using"
   ]
  },
  {
   "attachments": {},
   "cell_type": "markdown",
   "id": "90ef839e",
   "metadata": {},
   "source": [
    "## Model"
   ]
  },
  {
   "cell_type": "code",
   "execution_count": null,
   "id": "989b4c0c",
   "metadata": {},
   "outputs": [],
   "source": [
    "# Optimal Results of capaciated model\n",
    "\n",
    "optimal_df = pd.DataFrame() \n",
    "\n",
    "if lambda_var <= 0:\n",
    "    optimal_df[\"q_star_order_size\"] = internal_calc_df[\"Q-1 (S)\"]\n",
    "else:\n",
    "    optimal_df[\"q_star_order_size\"] = internal_calc_df[\"Q-2\"]\n",
    "\n",
    "optimal_df[\"opt_setups_per_year\"] = inputs_df[\"demand\"] / optimal_df[\"q_star_order_size\"]\n",
    "optimal_df[\"opt_time_in_setups_per_year\"] = inputs_df[\"demand\"] * inputs_df[\"scalar\"] * sys_S_nomimal_set_up_years / optimal_df[\"q_star_order_size\"] \n",
    "\n",
    "opt_total_setup_percent = optimal_df[\"opt_time_in_setups_per_year\"].sum()\n",
    "\n",
    "print(\"opt_total_setup_percent\",opt_total_setup_percent)\n",
    "optimal_df.astype(\"float\").round(4)"
   ]
  },
  {
   "cell_type": "code",
   "execution_count": null,
   "id": "78b4da79",
   "metadata": {},
   "outputs": [],
   "source": [
    "# EOQ, Unconstrained Results -- theorhetical best, but not feasible\n",
    "\n",
    "eoq_df = pd.DataFrame() \n",
    "\n",
    "eoq_df[\"q_star_eoq\"] = np.sqrt((2 * inputs_df[\"demand\"] * inputs_df[\"scalar\"] * y * x) / (inv_holding_cost_percent * inputs_df[\"cost\"] ))\n",
    "\n",
    "eoq_df[\"eoq_setups_per_year\"] = inputs_df[\"demand\"] / eoq_df[\"q_star_eoq\"]\n",
    "eoq_df[\"eoq_time_in_setups_per_year\"] = inputs_df[\"demand\"] * inputs_df[\"scalar\"] * sys_S_nomimal_set_up_years / eoq_df[\"q_star_eoq\"] \n",
    "\n",
    "eoq_total_setup_percent = eoq_df[\"eoq_time_in_setups_per_year\"].sum()\n",
    "\n",
    "print(\"eoq_total_setup_percent\",eoq_total_setup_percent)\n",
    "eoq_df.astype(\"float\").round(4)"
   ]
  },
  {
   "cell_type": "code",
   "execution_count": null,
   "id": "968aef86",
   "metadata": {},
   "outputs": [],
   "source": [
    "# This is filling out the cost table, both EOQ and Optimal\n",
    "\n",
    "cost_df = pd.DataFrame() \n",
    "\n",
    "#for optimal\n",
    "cost_df[\"opt setup cost\"] = (inputs_df[\"demand\"] * inputs_df[\"scalar\"] * y * x) / optimal_df[\"q_star_order_size\"]\n",
    "cost_df[\"opt hold cost\"] = optimal_df[\"q_star_order_size\"] * inv_holding_cost_percent * inputs_df[\"cost\"] / 2\n",
    "\n",
    "#for EOQ\n",
    "cost_df[\"eoq setup cost\"] = (inputs_df[\"demand\"] * inputs_df[\"scalar\"] * y * x) / eoq_df[\"q_star_eoq\"]\n",
    "cost_df[\"eoq hold cost\"] = eoq_df[\"q_star_eoq\"] * inv_holding_cost_percent * inputs_df[\"cost\"] / 2\n",
    "\n",
    "cost_df.astype(\"float\").round(0)"
   ]
  },
  {
   "attachments": {},
   "cell_type": "markdown",
   "id": "619bc376",
   "metadata": {},
   "source": [
    "## Results"
   ]
  },
  {
   "cell_type": "code",
   "execution_count": null,
   "id": "0f962974",
   "metadata": {},
   "outputs": [],
   "source": [
    "# And here are the results!\n",
    "\n",
    "print(\"----- Summary Stats ----------\")\n",
    "print(\"\")\n",
    "print(\"------Optimal Plan -----------\")\n",
    "\n",
    "total_holding_inventory_cost = round(cost_df['opt hold cost'].sum())\n",
    "total_setup_cost = round(cost_df['opt setup cost'].sum())\n",
    "total_cost = round(total_holding_inventory_cost + total_setup_cost)\n",
    "avg_working_cap = round(total_holding_inventory_cost / inv_holding_cost_percent)\n",
    "inv_turns = cogs / avg_working_cap\n",
    "hours_used = total_hours * (optimal_df[\"opt_time_in_setups_per_year\"].sum() + alpha)\n",
    "if hours_used >= avail_regular_hours:\n",
    "    overtime = 0\n",
    "else:\n",
    "    overtime = hours_used - avail_regular_hours\n",
    "\n",
    "\n",
    "print(f\"Total Holding Inventory Cost: ${total_holding_inventory_cost:>10,.0f}\")\n",
    "print(f\"Total Setup Cost:             ${total_setup_cost:>10,.0f}\")\n",
    "print(f\"Total Cost:                   ${total_cost:>10,.0f}\")\n",
    "print(\"\")\n",
    "print(f\"Average Working Capital       ${avg_working_cap:>10,.0f}\")\n",
    "print(f\"Inventory Turns               {inv_turns:>10,.1f}\")\n",
    "print(\"\")\n",
    "print(f\"Total Hours- all time          {total_hours:>10,.0f}\")\n",
    "print(f\"Total Working Hours            {avail_regular_hours:>10,.0f}\")\n",
    "print(f\"Working Hours Used             {hours_used:>10,.0f}\")\n",
    "print(f\"Overtime Needed                {overtime:>10,.0f}\")\n",
    "\n",
    "print(\"\")\n",
    "print(\"------EOQ Plan (Theoretical Best) -----------\")\n",
    "\n",
    "total_holding_inventory_cost = round(cost_df['eoq hold cost'].sum())\n",
    "total_setup_cost = round(cost_df['eoq setup cost'].sum())\n",
    "total_cost = round(total_holding_inventory_cost + total_setup_cost)\n",
    "avg_working_cap = round(total_holding_inventory_cost / inv_holding_cost_percent)\n",
    "inv_turns = cogs / avg_working_cap\n",
    "hours_used = total_hours * (eoq_df[\"eoq_time_in_setups_per_year\"].sum() + alpha)\n",
    "if hours_used <= avail_regular_hours:\n",
    "    overtime = 0\n",
    "else:\n",
    "    overtime = hours_used - avail_regular_hours\n",
    "\n",
    "\n",
    "print(f\"Total Holding Inventory Cost: ${total_holding_inventory_cost:>10,.0f}\")\n",
    "print(f\"Total Setup Cost:             ${total_setup_cost:>10,.0f}\")\n",
    "print(f\"Total Cost:                   ${total_cost:>10,.0f}\")\n",
    "print(\"\")\n",
    "print(f\"Average Working Capital       ${avg_working_cap:>10,.0f}\")\n",
    "print(f\"Inventory Turns               {inv_turns:>10,.1f}\")\n",
    "print(\"\")\n",
    "print(f\"Total Hours- all time          {total_hours:>10,.0f}\")\n",
    "print(f\"Total Working Hours            {avail_regular_hours:>10,.0f}\")\n",
    "print(f\"Working Hours Used             {hours_used:>10,.0f}\")\n",
    "print(f\"Overtime Needed                {overtime:>10,.0f}\")\n",
    "\n",
    "\n"
   ]
  },
  {
   "cell_type": "code",
   "execution_count": null,
   "id": "c2e0d2f8",
   "metadata": {},
   "outputs": [],
   "source": []
  },
  {
   "attachments": {},
   "cell_type": "markdown",
   "id": "2f12e0d5",
   "metadata": {},
   "source": [
    "## Round to nearest power of 2\n",
    "\n",
    "Take the optimal solution, round the number of set ups per year to the nearest power of two, then recalculate the solution."
   ]
  },
  {
   "cell_type": "code",
   "execution_count": null,
   "id": "c4052b55",
   "metadata": {},
   "outputs": [],
   "source": [
    "# Remember what the table looks like\n",
    "optimal_df.round(4)"
   ]
  },
  {
   "cell_type": "code",
   "execution_count": null,
   "id": "84cb21e3",
   "metadata": {},
   "outputs": [],
   "source": [
    "# round to nearest power of 2\n",
    "\n",
    "def round_to_power_of_2(x):\n",
    "    \"\"\"Round x to the nearest power of 2. Returns the power of 2.\n",
    "    For example, 3.2 rounds to 4.\n",
    "    Break ties going up.\"\"\"\n",
    "\n",
    "    if np.isnan(x):\n",
    "        # Non-number input\n",
    "        return np.nan\n",
    "    elif np.log2(x) % 1 == 0:\n",
    "        # Already a power of 2\n",
    "        return np.log2(x)\n",
    "    else:\n",
    "        # Round\n",
    "        lower = 2 ** np.floor(np.log2(x))\n",
    "        upper = 2 ** np.ceil(np.log2(x))\n",
    "\n",
    "        if upper - x <= x - lower:\n",
    "            return upper\n",
    "        else:\n",
    "            return lower\n",
    "        \n"
   ]
  },
  {
   "cell_type": "code",
   "execution_count": null,
   "id": "b264c2e4",
   "metadata": {},
   "outputs": [],
   "source": [
    "# Test the function\n",
    "\n",
    "round_to_power_of_2(50)"
   ]
  },
  {
   "cell_type": "code",
   "execution_count": null,
   "id": "56ac8944",
   "metadata": {},
   "outputs": [],
   "source": [
    "# Start building the rounded table \n",
    "rounded_df = pd.DataFrame()\n",
    "\n",
    "rounded_df[\"rounded_setups_per_year\"] = optimal_df[\"opt_setups_per_year\"].apply(round_to_power_of_2)\n",
    "rounded_df # not a very interesting example dataset!"
   ]
  },
  {
   "cell_type": "code",
   "execution_count": null,
   "id": "b0260c33",
   "metadata": {},
   "outputs": [],
   "source": []
  }
 ],
 "metadata": {
  "kernelspec": {
   "display_name": "Python 3",
   "language": "python",
   "name": "python3"
  },
  "language_info": {
   "codemirror_mode": {
    "name": "ipython",
    "version": 3
   },
   "file_extension": ".py",
   "mimetype": "text/x-python",
   "name": "python",
   "nbconvert_exporter": "python",
   "pygments_lexer": "ipython3",
   "version": "3.8.8"
  }
 },
 "nbformat": 4,
 "nbformat_minor": 5
}
