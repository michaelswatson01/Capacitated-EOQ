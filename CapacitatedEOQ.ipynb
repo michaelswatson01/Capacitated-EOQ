{
 "cells": [
  {
   "attachments": {},
   "cell_type": "markdown",
   "id": "7fb1474f",
   "metadata": {},
   "source": [
    "# Capacitated EOQ Model"
   ]
  },
  {
   "cell_type": "code",
   "execution_count": 2,
   "id": "453e9f30",
   "metadata": {},
   "outputs": [],
   "source": [
    "# Load in the libraries that we'll use\n",
    "\n",
    "import pandas as pd\n",
    "import numpy as np"
   ]
  },
  {
   "attachments": {},
   "cell_type": "markdown",
   "id": "7a680e6e",
   "metadata": {},
   "source": [
    "## Model Inputs\n",
    "\n",
    "Feel free to modify these to understand how the model works. Then `Run All`. "
   ]
  },
  {
   "cell_type": "code",
   "execution_count": 3,
   "id": "9d2c9956",
   "metadata": {},
   "outputs": [],
   "source": [
    "#This cell is for reading the system-wide inputs\n",
    "\n",
    "total_hours = 8736\n",
    "avail_regular_hours = 4264\n",
    "avail_time_constraint = avail_regular_hours / total_hours\n",
    "nominal_set_up_time = 10  #later we'll change this to a calculation\n",
    "inv_holding_cost_percent = .2\n",
    "cost_of_set_up_hour = 100\n"
   ]
  },
  {
   "cell_type": "code",
   "execution_count": 7,
   "id": "23acd10d",
   "metadata": {},
   "outputs": [
    {
     "data": {
      "text/html": [
       "<div>\n",
       "<style scoped>\n",
       "    .dataframe tbody tr th:only-of-type {\n",
       "        vertical-align: middle;\n",
       "    }\n",
       "\n",
       "    .dataframe tbody tr th {\n",
       "        vertical-align: top;\n",
       "    }\n",
       "\n",
       "    .dataframe thead th {\n",
       "        text-align: right;\n",
       "    }\n",
       "</style>\n",
       "<table border=\"1\" class=\"dataframe\">\n",
       "  <thead>\n",
       "    <tr style=\"text-align: right;\">\n",
       "      <th></th>\n",
       "      <th>Demand (year)- m</th>\n",
       "      <th>Cost- c-j</th>\n",
       "      <th>Production Rate (hr)</th>\n",
       "      <th>Set Up Scaler-- (q-j)</th>\n",
       "    </tr>\n",
       "    <tr>\n",
       "      <th>Product ID</th>\n",
       "      <th></th>\n",
       "      <th></th>\n",
       "      <th></th>\n",
       "      <th></th>\n",
       "    </tr>\n",
       "  </thead>\n",
       "  <tbody>\n",
       "    <tr>\n",
       "      <th>1</th>\n",
       "      <td>5000</td>\n",
       "      <td>100</td>\n",
       "      <td>15</td>\n",
       "      <td>1</td>\n",
       "    </tr>\n",
       "    <tr>\n",
       "      <th>2</th>\n",
       "      <td>5000</td>\n",
       "      <td>200</td>\n",
       "      <td>15</td>\n",
       "      <td>1</td>\n",
       "    </tr>\n",
       "    <tr>\n",
       "      <th>3</th>\n",
       "      <td>8000</td>\n",
       "      <td>200</td>\n",
       "      <td>15</td>\n",
       "      <td>2</td>\n",
       "    </tr>\n",
       "    <tr>\n",
       "      <th>4</th>\n",
       "      <td>5000</td>\n",
       "      <td>400</td>\n",
       "      <td>15</td>\n",
       "      <td>2</td>\n",
       "    </tr>\n",
       "    <tr>\n",
       "      <th>5</th>\n",
       "      <td>5000</td>\n",
       "      <td>400</td>\n",
       "      <td>15</td>\n",
       "      <td>3</td>\n",
       "    </tr>\n",
       "    <tr>\n",
       "      <th>6</th>\n",
       "      <td>5000</td>\n",
       "      <td>500</td>\n",
       "      <td>15</td>\n",
       "      <td>3</td>\n",
       "    </tr>\n",
       "    <tr>\n",
       "      <th>7</th>\n",
       "      <td>5000</td>\n",
       "      <td>200</td>\n",
       "      <td>15</td>\n",
       "      <td>4</td>\n",
       "    </tr>\n",
       "    <tr>\n",
       "      <th>8</th>\n",
       "      <td>5000</td>\n",
       "      <td>500</td>\n",
       "      <td>15</td>\n",
       "      <td>4</td>\n",
       "    </tr>\n",
       "    <tr>\n",
       "      <th>9</th>\n",
       "      <td>5000</td>\n",
       "      <td>500</td>\n",
       "      <td>15</td>\n",
       "      <td>5</td>\n",
       "    </tr>\n",
       "    <tr>\n",
       "      <th>10</th>\n",
       "      <td>5000</td>\n",
       "      <td>1000</td>\n",
       "      <td>15</td>\n",
       "      <td>5</td>\n",
       "    </tr>\n",
       "  </tbody>\n",
       "</table>\n",
       "</div>"
      ],
      "text/plain": [
       "            Demand (year)- m  Cost- c-j  Production Rate (hr)  \\\n",
       "Product ID                                                      \n",
       "1                       5000        100                    15   \n",
       "2                       5000        200                    15   \n",
       "3                       8000        200                    15   \n",
       "4                       5000        400                    15   \n",
       "5                       5000        400                    15   \n",
       "6                       5000        500                    15   \n",
       "7                       5000        200                    15   \n",
       "8                       5000        500                    15   \n",
       "9                       5000        500                    15   \n",
       "10                      5000       1000                    15   \n",
       "\n",
       "            Set Up Scaler-- (q-j)  \n",
       "Product ID                         \n",
       "1                               1  \n",
       "2                               1  \n",
       "3                               2  \n",
       "4                               2  \n",
       "5                               3  \n",
       "6                               3  \n",
       "7                               4  \n",
       "8                               4  \n",
       "9                               5  \n",
       "10                              5  "
      ]
     },
     "execution_count": 7,
     "metadata": {},
     "output_type": "execute_result"
    }
   ],
   "source": [
    "#This cell is for reading the product-specific inputs\n",
    "\n",
    "product_input_table = pd.read_csv(\"product_input_v1.csv\", index_col=\"Product ID\")\n",
    "product_input_table # display the table"
   ]
  },
  {
   "attachments": {},
   "cell_type": "markdown",
   "id": "7c1b3827",
   "metadata": {},
   "source": [
    "## Functions"
   ]
  },
  {
   "cell_type": "code",
   "execution_count": null,
   "id": "fdeaa78a",
   "metadata": {},
   "outputs": [],
   "source": [
    "# All the functions we plan on using"
   ]
  },
  {
   "attachments": {},
   "cell_type": "markdown",
   "id": "90ef839e",
   "metadata": {},
   "source": [
    "## Model"
   ]
  },
  {
   "cell_type": "code",
   "execution_count": null,
   "id": "989b4c0c",
   "metadata": {},
   "outputs": [],
   "source": [
    "# Here's where the model runs"
   ]
  },
  {
   "attachments": {},
   "cell_type": "markdown",
   "id": "619bc376",
   "metadata": {},
   "source": [
    "## Results"
   ]
  },
  {
   "cell_type": "code",
   "execution_count": null,
   "id": "0f962974",
   "metadata": {},
   "outputs": [],
   "source": [
    "# And here are the results!"
   ]
  }
 ],
 "metadata": {
  "kernelspec": {
   "display_name": "Python 3",
   "language": "python",
   "name": "python3"
  },
  "language_info": {
   "codemirror_mode": {
    "name": "ipython",
    "version": 3
   },
   "file_extension": ".py",
   "mimetype": "text/x-python",
   "name": "python",
   "nbconvert_exporter": "python",
   "pygments_lexer": "ipython3",
   "version": "3.11.5"
  }
 },
 "nbformat": 4,
 "nbformat_minor": 5
}
